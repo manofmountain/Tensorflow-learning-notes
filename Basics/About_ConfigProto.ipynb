{
 "cells": [
  {
   "cell_type": "markdown",
   "metadata": {},
   "source": [
    "We find out 'ConfigProto' has an important position when using a session or a server object. Seems it's used to do some important parameter settings on the running environments."
   ]
  },
  {
   "cell_type": "code",
   "execution_count": null,
   "metadata": {
    "collapsed": true
   },
   "outputs": [],
   "source": [
    "#Session configuration parameters.\n",
    "#The system picks appropriate values for fields that are not set.\n",
    "message ConfigProto{\n",
    "    #Map from device type name(e.g., \"CPU\", or \"GPU\") to maximum number of devices of that type to use. If a particular \n",
    "    #device type is not found in the map, the system picks an appropriate number.\n",
    "    map<string, int32> device_count = 1;\n",
    "    \n",
    "    #The execution of an individual op (for some op types) can be parallelized on a pool of intra_op_parallelism_threads.\n",
    "    #0 means the system picks an appropriate number.\n",
    "    int32 intra_op_parallelism_threads = 2;\n",
    "    \n",
    "    #Nodes that perform blocking operations are enqueueed on a pool of inter_op_parallelism_threads available in each\n",
    "    #process.\n",
    "    #0 means the system picks an appropriate number.\n",
    "    #\n",
    "    #Note that the first Session created in the process sets the number of threads for all future sessions unless \n",
    "    #use_per_session_thread is true or session_inter_op_thread_pool is configured.\n",
    "    int32 inter_op_parallelism_threads = 5;\n",
    "    \n",
    "    #This option is deprecated. The same effect can be achieved by setting session_inter_op_thread_pool to have one\n",
    "    #element, whose num_threads equals inter_op_parallelism_threads.\n",
    "    bool use_per_session_threads = 9;\n",
    "    \n",
    "    #This option is experimental - it may be replaced with a different mechanism in the future. The intended use is\n",
    "    #for when some session invocations need to run in a backgroud pool limited to a small number of threads.\n",
    "    #Configures session thread pools. If this is configured, then RunOptions for a Run call can select the thread pool\n",
    "    #to use.\n",
    "    #If a pool's num_threads is 0, then inter_op_parallelism_threads is used.\n",
    "    repeated ThreadPoolOptionProto session_inter_op_thread_pool = 12;\n",
    "    \n",
    "    #Assignment of nodes to devices is recomputed every placement_period steps until the system warms up (at which point\n",
    "    # the recommendation typically slows down automatically)\n",
    "    int32 placement_period = 3;\n",
    "    \n",
    "    #When any filters are present sessions will ignore all devices which do not match the filters. Each filter can be\n",
    "    #partially specified, eg. \"/job:ps\", \"/job:worker/replica:3\", etc\n",
    "    repeated string device_filters = 4\n",
    "    \n",
    "    #Options to apply to all GPUs.\n",
    "    GPUOptions gpu_options = 6;\n",
    "    \n",
    "    #Whether soft placement is allowed. If is true, an op will be placed on CPU if\n",
    "    #1. there's no GPU implementation for the OP\n",
    "    #2. no GPU devices are known or registered\n",
    "    #3. need to co-locate with reftype input(s) which are from CPU.\n",
    "    bool allow_soft_placement = 7;\n",
    "    \n",
    "    #Whether device placements should be logged.\n",
    "    bool log_device_placement = 8;\n",
    "    \n",
    "    #Options that apply to all graphs.\n",
    "    GraphOptions graph_options = 10;\n",
    "    \n",
    "    #Global timeout for all blocking operations in this session. If non-zero, and not overridden on a per-operation\n",
    "    #basis, this value will be used as the deadline for all blocking operations.\n",
    "    int64 operation_timeout_in_ms = 11;\n",
    "    \n",
    "    #Options that apply when this session used the distributed runtime.\n",
    "    RPCOptions rpc_options = 13;\n",
    "}"
   ]
  }
 ],
 "metadata": {
  "kernelspec": {
   "display_name": "Python 2",
   "language": "python",
   "name": "python2"
  },
  "language_info": {
   "codemirror_mode": {
    "name": "ipython",
    "version": 2
   },
   "file_extension": ".py",
   "mimetype": "text/x-python",
   "name": "python",
   "nbconvert_exporter": "python",
   "pygments_lexer": "ipython2",
   "version": "2.7.5"
  }
 },
 "nbformat": 4,
 "nbformat_minor": 2
}
