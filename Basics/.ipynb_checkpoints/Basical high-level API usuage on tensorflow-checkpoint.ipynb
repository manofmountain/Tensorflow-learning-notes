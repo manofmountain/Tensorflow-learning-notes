{
 "cells": [
  {
   "cell_type": "markdown",
   "metadata": {},
   "source": [
    "Here, we'll talk about how to generate a naive machine learning model 'Linear Regression' by using tensorflow high level abstraction API. Most of the contents come from 'Getting started with tensorflow'.\n",
    "Reference: https://www.tensorflow.org/get_started/get_started"
   ]
  },
  {
   "cell_type": "markdown",
   "metadata": {},
   "source": [
    "tf.contrib is a high-level Tensorflow library that simplifies the mechanics of machine learning, including the following:\n",
    "| running training loops\n",
    "| running evaluation loops\n",
    "| managing data sets\n",
    "| managing feeding\n",
    "\n",
    "It defines many common models."
   ]
  },
  {
   "cell_type": "code",
   "execution_count": 1,
   "metadata": {
    "collapsed": true
   },
   "outputs": [],
   "source": [
    "# import related modules at first\n",
    "import tensorflow as tf\n",
    "\n",
    "# NumPy is often used to load, manipulate and preprocess data. (A package used to do numerical computing)\n",
    "import numpy as np"
   ]
  },
  {
   "cell_type": "code",
   "execution_count": 3,
   "metadata": {},
   "outputs": [
    {
     "name": "stdout",
     "output_type": "stream",
     "text": [
      "[_RealValuedColumn(column_name='x', dimension=1, default_value=None, dtype=tf.float32, normalizer=None)]\n"
     ]
    }
   ],
   "source": [
    "# Declare list of features. Only have one real-valued feature. There are many other types of columns that more complicated\n",
    "# and useful.\n",
    "feature = [tf.contrib.layers.real_valued_column(\"x\", dimension=1)]\n",
    "print feature"
   ]
  },
  {
   "cell_type": "code",
   "execution_count": 4,
   "metadata": {},
   "outputs": [
    {
     "name": "stdout",
     "output_type": "stream",
     "text": [
      "WARNING:tensorflow:Using temporary folder as model directory: /tmp/tmpTdek5O\n",
      "INFO:tensorflow:Using default config.\n",
      "INFO:tensorflow:Using config: {'_save_checkpoints_secs': 600, '_num_ps_replicas': 0, '_keep_checkpoint_max': 5, '_tf_random_seed': None, '_task_type': None, '_environment': 'local', '_is_chief': True, '_cluster_spec': <tensorflow.python.training.server_lib.ClusterSpec object at 0x66d6910>, '_tf_config': gpu_options {\n",
      "  per_process_gpu_memory_fraction: 1.0\n",
      "}\n",
      ", '_task_id': 0, '_save_summary_steps': 100, '_save_checkpoints_steps': None, '_evaluation_master': '', '_keep_checkpoint_every_n_hours': 10000, '_master': ''}\n",
      "LinearRegressor(params={'gradient_clip_norm': None, 'head': <tensorflow.contrib.learn.python.learn.estimators.head._RegressionHead object at 0x66dd150>, 'joint_weights': False, 'optimizer': None, 'feature_columns': [_RealValuedColumn(column_name='x', dimension=1, default_value=None, dtype=tf.float32, normalizer=None)]})\n"
     ]
    }
   ],
   "source": [
    "# An estimator is the front end to invoke training (fitting) and evaluation (inference). There are many predefined types\n",
    "# like linear regression, logistic regression, linear classification, logistic classification, and many neural network\n",
    "# classifiers and regressors. The following code provides an estimator that does linear regression.\n",
    "estimator = tf.contrib.learn.LinearRegressor(feature_columns=feature)\n",
    "print estimator"
   ]
  },
  {
   "cell_type": "code",
   "execution_count": 5,
   "metadata": {
    "collapsed": true
   },
   "outputs": [],
   "source": [
    "# Tensorflow provides many helper methods to read and set up data sets.\n",
    "# Here we use 'numpy_input_fun'. We have to tell the function how many batches of data (num_epochs) we want and how big\n",
    "# each batch should be.\n",
    "x = np.array([1., 2., 3., 4.])\n",
    "y = np.array([0., -1., -2., -3.])\n",
    "input_fn = tf.contrib.learn.io.numpy_input_fn({\"x\":x}, y, batch_size=4, num_epochs=1000)"
   ]
  },
  {
   "cell_type": "code",
   "execution_count": 6,
   "metadata": {},
   "outputs": [
    {
     "name": "stdout",
     "output_type": "stream",
     "text": [
      "WARNING:tensorflow:Rank of input Tensor (1) should be the same as output_rank (2) for column. Will attempt to expand dims. It is highly recommended that you resize your input, as this behavior may change.\n",
      "WARNING:tensorflow:From /home/sanmu/tensorflow/lib/python2.7/site-packages/tensorflow/contrib/learn/python/learn/estimators/head.py:1362: scalar_summary (from tensorflow.python.ops.logging_ops) is deprecated and will be removed after 2016-11-30.\n",
      "Instructions for updating:\n",
      "Please switch to tf.summary.scalar. Note that tf.summary.scalar uses the node name instead of the tag. This means that TensorFlow will automatically de-duplicate summary names based on the scope they are created in. Also, passing a tensor or list of tags to a scalar summary op is no longer supported.\n",
      "INFO:tensorflow:Create CheckpointSaverHook.\n",
      "INFO:tensorflow:Saving checkpoints for 1 into /tmp/tmpTdek5O/model.ckpt.\n",
      "INFO:tensorflow:loss = 3.25, step = 1\n",
      "INFO:tensorflow:global_step/sec: 1138.95\n",
      "INFO:tensorflow:loss = 0.064209, step = 101\n",
      "INFO:tensorflow:global_step/sec: 1314.36\n",
      "INFO:tensorflow:loss = 0.00550329, step = 201\n",
      "INFO:tensorflow:global_step/sec: 1342.08\n",
      "INFO:tensorflow:loss = 0.00144954, step = 301\n",
      "INFO:tensorflow:global_step/sec: 1374.27\n",
      "INFO:tensorflow:loss = 4.60261e-05, step = 401\n",
      "INFO:tensorflow:global_step/sec: 1297.45\n",
      "INFO:tensorflow:loss = 5.27645e-05, step = 501\n",
      "INFO:tensorflow:global_step/sec: 1385.18\n",
      "INFO:tensorflow:loss = 6.8012e-06, step = 601\n",
      "INFO:tensorflow:global_step/sec: 1269.12\n",
      "INFO:tensorflow:loss = 3.53692e-07, step = 701\n",
      "INFO:tensorflow:global_step/sec: 1589.42\n",
      "INFO:tensorflow:loss = 6.56415e-08, step = 801\n",
      "INFO:tensorflow:global_step/sec: 1997.73\n",
      "INFO:tensorflow:loss = 1.53033e-08, step = 901\n",
      "INFO:tensorflow:Saving checkpoints for 1000 into /tmp/tmpTdek5O/model.ckpt.\n",
      "INFO:tensorflow:Loss for final step: 3.30219e-09.\n",
      "WARNING:tensorflow:Rank of input Tensor (1) should be the same as output_rank (2) for column. Will attempt to expand dims. It is highly recommended that you resize your input, as this behavior may change.\n",
      "WARNING:tensorflow:From /home/sanmu/tensorflow/lib/python2.7/site-packages/tensorflow/contrib/learn/python/learn/estimators/head.py:1362: scalar_summary (from tensorflow.python.ops.logging_ops) is deprecated and will be removed after 2016-11-30.\n",
      "Instructions for updating:\n",
      "Please switch to tf.summary.scalar. Note that tf.summary.scalar uses the node name instead of the tag. This means that TensorFlow will automatically de-duplicate summary names based on the scope they are created in. Also, passing a tensor or list of tags to a scalar summary op is no longer supported.\n",
      "INFO:tensorflow:Starting evaluation at 2017-05-17-03:05:45\n",
      "INFO:tensorflow:Finished evaluation at 2017-05-17-03:05:45\n",
      "INFO:tensorflow:Saving dict for global step 1000: global_step = 1000, loss = 2.8965e-09\n",
      "WARNING:tensorflow:Skipping summary for global_step, must be a float or np.float32.\n",
      "{'loss': 2.8965048e-09, 'global_step': 1000}\n"
     ]
    }
   ],
   "source": [
    "# We can invoke 1000 training steps by invoking the 'fit' method and passing the training data set.\n",
    "estimator.fit(input_fn=input_fn, steps=1000)\n",
    "\n",
    "# Here we evaluate how well our model did. In a real example, we would want to use a separate validation and testing data\n",
    "# set to avoid overfitting.\n",
    "print(estimator.evaluate(input_fn=input_fn))"
   ]
  }
 ],
 "metadata": {
  "kernelspec": {
   "display_name": "Python 2",
   "language": "python",
   "name": "python2"
  },
  "language_info": {
   "codemirror_mode": {
    "name": "ipython",
    "version": 2
   },
   "file_extension": ".py",
   "mimetype": "text/x-python",
   "name": "python",
   "nbconvert_exporter": "python",
   "pygments_lexer": "ipython2",
   "version": "2.7.5"
  }
 },
 "nbformat": 4,
 "nbformat_minor": 2
}
