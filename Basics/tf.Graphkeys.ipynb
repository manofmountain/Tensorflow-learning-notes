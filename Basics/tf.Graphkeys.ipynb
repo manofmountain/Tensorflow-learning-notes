{
 "cells": [
  {
   "cell_type": "markdown",
   "metadata": {},
   "source": [
    "I found lots of places used tf.Graphkeys to track different category of variables. So i dived into what's within this class. And below are detailed introduction of this class."
   ]
  },
  {
   "cell_type": "code",
   "execution_count": null,
   "metadata": {
    "collapsed": true
   },
   "outputs": [],
   "source": [
    "class GraphKeys(object):\n",
    "    '''Standard names to use for graph collections.\n",
    "    \n",
    "    The standard library uses various well-known names to collect and retrieve values associated with a graph. \n",
    "    For example, the 'tf.Optimizer' subclasses default to optimizing the variables collected under \n",
    "    'tf.GraphKeys.TRAINABLE_VARIABLES' if none is specified, but it is also possible to pass an explicit list of \n",
    "    variables.\n",
    "    \n",
    "    The following standard keys are defined:\n",
    "    *'GLOBAL_VARIABLES': the default collection of 'Variable' objects, shared accross distributed environment (model\n",
    "    variables are subset of these). See @{tf.global_variables} for more detailes.\n",
    "    Commonly, all 'TRAINABLE_VARIABLES' variables will be in 'MODEL_VARIABLES', and all 'MODEL_VARIABLES' will be in\n",
    "    'GLOBAL_VARIABLES'.\n",
    "    *'LOCAL_VARIABLES': the subset of 'Variable' objects that are local to each machine. Usually used for temporarily\n",
    "    variables, like counters.\n",
    "    Note: use 'tf.contrib.framework.local_variable' to add to this collection.\n",
    "    *'MODEL_VARIABLES': the subset of 'Variable' objects that are used in the model for inference(feed forward).\n",
    "    Note: use 'tf.contrib.framework.model_variable' to add to this collection.\n",
    "    *TRAINABLE_VARIABLES': the subset of 'Variable' objects that will be trained by an optimizer.See @{tf.trainable_variables}\n",
    "    *'SUMMARIES': the summary 'Tensor' objects that have been created in the graph. See @{tf.summary.merge_all}\n",
    "    *'QUEUE_RUNNERS': the 'QueueRunner' objects that are used to produce input for a computation. See @{tf.train.start_queue_runners}\n",
    "    *'MOVING_AVERAGE_VARIABLES': the subset of 'Variable' objects that will also keep moving averages.\n",
    "    See @{tf.moving_average_variables}\n",
    "    *'REGULARIZATION_LOSSES': regularization losses collected during graph construction.\n",
    "    *'WEIGHTS': weights inside neural network layers\n",
    "    *'BIASES': biases inside neural network layers\n",
    "    *'ACTIVATIONS': activations of neural network layers\n",
    "    '''\n",
    "    GLOBAL_VARIABLES = \"variables\"\n",
    "    LOCAL_VARIABLES = \"local_variables\"\n",
    "    ...\n",
    "    ...\n",
    "    SAVERS = \"savers\"\n",
    "    UPDATE_OPS = \"update_ops\"\n",
    "    LOSSES = \"losses\"\n",
    "    ...\n",
    "    RESOURCES = \"resources\"\n",
    "    ...\n",
    "    INIT_OP = \"init_op\"\n",
    "    SUMMARY_OP = \"summary_op\"\n",
    "    GLOBAL_STEP = \"global_step\"\n",
    "    ...\n",
    "    EVAL_OP = \"eval_op\"\n",
    "    TRAIN_OP = \"train_op\"\n",
    "    "
   ]
  }
 ],
 "metadata": {
  "kernelspec": {
   "display_name": "Python 2",
   "language": "python",
   "name": "python2"
  },
  "language_info": {
   "codemirror_mode": {
    "name": "ipython",
    "version": 2
   },
   "file_extension": ".py",
   "mimetype": "text/x-python",
   "name": "python",
   "nbconvert_exporter": "python",
   "pygments_lexer": "ipython2",
   "version": "2.7.5"
  }
 },
 "nbformat": 4,
 "nbformat_minor": 2
}
