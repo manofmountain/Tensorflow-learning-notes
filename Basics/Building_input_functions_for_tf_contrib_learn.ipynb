{
 "cells": [
  {
   "cell_type": "markdown",
   "metadata": {},
   "source": [
    "We'll learn how to create input functions in tf.contrib.learn in this notes. The input function will preprocess\n",
    "and feed data into our models.\n",
    "When using tf.contrib.learn to train a neural network, it's ok to pass our feature and data directly into our model's fit, evaluate or predict operations. But when more feature engineering is needed, through using a custom input function(input_fn) to encapsulate the logic for preprocessing and piping data into our models would be a better way."
   ]
  },
  {
   "cell_type": "code",
   "execution_count": null,
   "metadata": {
    "collapsed": true
   },
   "outputs": [],
   "source": [
    "def my_input_fn():\n",
    "    '''Preprocess our data here..\n",
    "       Return 1) a mapping of feature columns to Tensors with the corresponding feature data, and 2)a Tensor containing\n",
    "       labels\n",
    "    '''\n",
    "    return feature_cols, labels"
   ]
  },
  {
   "cell_type": "markdown",
   "metadata": {},
   "source": [
    "The body of input function contains the specific logic for preprocessing our input data.\n",
    "feature_cols: A dict containing key/value pairs that map feature column names to Tensor s(or SparseTensor s) containing the corresponding feature data;\n",
    "labels: A tensor containing label values."
   ]
  },
  {
   "cell_type": "markdown",
   "metadata": {},
   "source": [
    "h1. Converting feature data to tensors\n",
    "If our feature/label is stored in pandas dataframes or numpy arrays, we'll need to convert them to Tensors before returning it from input function."
   ]
  },
  {
   "cell_type": "code",
   "execution_count": 2,
   "metadata": {},
   "outputs": [
    {
     "name": "stdout",
     "output_type": "stream",
     "text": [
      "[1, 2.4, 0, 9.9, 3, 120]\n",
      "Tensor(\"Const:0\", shape=(6,), dtype=float32)\n"
     ]
    }
   ],
   "source": [
    "import tensorflow as tf\n",
    "\n",
    "#For continuous data, we can create and populate a Tensor using tf.constant like below:\n",
    "feature_column_data = [1, 2.4, 0, 9.9, 3, 120]\n",
    "print feature_column_data\n",
    "feature_tensor = tf.constant(feature_column_data)\n",
    "print feature_tensor"
   ]
  },
  {
   "cell_type": "markdown",
   "metadata": {},
   "source": [
    "For sparse, categorical data(data where the majority of values are 0), we'll instead want to populate a SparseTensor, which is instantiated with three arguments:\n",
    "dense_shape: the shape of the tensor. Takes a list indicating the number of elements in each dimension;\n",
    "indices: the indices of the elements in our tensor that contain nonzero values. Takes a list of terms, where each term is itself a list containing the index of a nonzero element. For example, indices = [[1, 3], [2, 4]] specifies that the elements with indexes of [1, 3] and [2, 4] have nonzero values.\n",
    "values: A one dimensional tensor of values. Term i in values corresponds to term i in indices and specifies its value."
   ]
  },
  {
   "cell_type": "code",
   "execution_count": 4,
   "metadata": {},
   "outputs": [
    {
     "name": "stdout",
     "output_type": "stream",
     "text": [
      "SparseTensor(indices=Tensor(\"SparseTensor_1/indices:0\", shape=(2, 2), dtype=int64), values=Tensor(\"SparseTensor_1/values:0\", shape=(2,), dtype=float32), dense_shape=Tensor(\"SparseTensor_1/dense_shape:0\", shape=(2,), dtype=int64))\n",
      "SparseTensorValue(indices=array([[0, 1],\n",
      "       [2, 4]]), values=array([ 6. ,  0.5], dtype=float32), dense_shape=array([3, 5]))\n"
     ]
    }
   ],
   "source": [
    "#Following code defines a two-dimensional SparseTensor with 3 rows and 5 columns. The element with index[0,1] has \n",
    "#a value of 6, and the element with index[2, 4] has a value of 0.5(all other values are 0):\n",
    "sparse_tensor = tf.SparseTensor(indices=[[0,1], [2,4]], values = [6,0.5], dense_shape=[3,5])\n",
    "print sparse_tensor\n",
    "s = tf.Session()\n",
    "print s.run(sparse_tensor)"
   ]
  },
  {
   "cell_type": "markdown",
   "metadata": {},
   "source": [
    "h1. Passing input_fun Data to our model\n",
    "\n",
    "To feed data to our model for training, simply pass the input function we've created to the fit operation as the value of the input_fn parameter.\n",
    "Note that the input_fn parameter must receive a function object(i.e., input_fn = my_input_fn), not the return value of a function call.\n",
    "If we want to be able to parameterize our input function, we can use a wrapper function, or python's functools.partial function to construct a new function object with all parameter values fixed. Also we can wrap our function invocation in a lambda and pass it to the input_fn parameter."
   ]
  }
 ],
 "metadata": {
  "kernelspec": {
   "display_name": "Python 2",
   "language": "python",
   "name": "python2"
  },
  "language_info": {
   "codemirror_mode": {
    "name": "ipython",
    "version": 2
   },
   "file_extension": ".py",
   "mimetype": "text/x-python",
   "name": "python",
   "nbconvert_exporter": "python",
   "pygments_lexer": "ipython2",
   "version": "2.7.5"
  }
 },
 "nbformat": 4,
 "nbformat_minor": 2
}
