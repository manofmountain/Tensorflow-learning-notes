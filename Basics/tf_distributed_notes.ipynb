{
 "cells": [
  {
   "cell_type": "code",
   "execution_count": 15,
   "metadata": {
    "collapsed": true
   },
   "outputs": [],
   "source": [
    "import tensorflow as tf\n",
    "sess = tf.Session()"
   ]
  },
  {
   "cell_type": "code",
   "execution_count": 16,
   "metadata": {},
   "outputs": [
    {
     "name": "stdout",
     "output_type": "stream",
     "text": [
      "0.1 0.3 0.4 0.8\n"
     ]
    }
   ],
   "source": [
    "xmin, ymin, xmax, ymax = 0.1, 0.3, 0.4, 0.8\n",
    "print xmin, ymin, xmax, ymax"
   ]
  },
  {
   "cell_type": "code",
   "execution_count": 17,
   "metadata": {},
   "outputs": [
    {
     "name": "stdout",
     "output_type": "stream",
     "text": [
      "Tensor(\"ExpandDims_18:0\", shape=(1,), dtype=float32) Tensor(\"ExpandDims_20:0\", shape=(1,), dtype=float32) Tensor(\"ExpandDims_19:0\", shape=(1,), dtype=float32) Tensor(\"ExpandDims_21:0\", shape=(1,), dtype=float32)\n",
      "[ 0.1] [ 0.30000001] [ 0.40000001] [ 0.80000001]\n"
     ]
    }
   ],
   "source": [
    "xmin = tf.expand_dims(xmin, 0)\n",
    "xmax = tf.expand_dims(xmax, 0)\n",
    "ymin = tf.expand_dims(ymin, 0)\n",
    "ymax = tf.expand_dims(ymax, 0)\n",
    "print xmin, ymin, xmax, ymax\n",
    "print xmin.eval(session=sess), ymin.eval(session=sess), xmax.eval(session=sess), ymax.eval(session=sess)"
   ]
  },
  {
   "cell_type": "code",
   "execution_count": 18,
   "metadata": {},
   "outputs": [
    {
     "name": "stdout",
     "output_type": "stream",
     "text": [
      "Tensor(\"concat_2:0\", shape=(4,), dtype=float32)\n",
      "[ 0.1         0.30000001  0.40000001  0.80000001]\n"
     ]
    }
   ],
   "source": [
    "bbox = tf.concat([xmin, ymin, xmax, ymax], 0)\n",
    "print bbox\n",
    "print sess.run(bbox)"
   ]
  },
  {
   "cell_type": "code",
   "execution_count": 19,
   "metadata": {},
   "outputs": [
    {
     "name": "stdout",
     "output_type": "stream",
     "text": [
      "Tensor(\"ExpandDims_22:0\", shape=(1, 4), dtype=float32)\n",
      "[[ 0.1         0.30000001  0.40000001  0.80000001]]\n"
     ]
    }
   ],
   "source": [
    "bbox = tf.expand_dims(bbox, 0)\n",
    "print bbox\n",
    "print sess.run(bbox)"
   ]
  }
 ],
 "metadata": {
  "kernelspec": {
   "display_name": "Python 2",
   "language": "python",
   "name": "python2"
  },
  "language_info": {
   "codemirror_mode": {
    "name": "ipython",
    "version": 2
   },
   "file_extension": ".py",
   "mimetype": "text/x-python",
   "name": "python",
   "nbconvert_exporter": "python",
   "pygments_lexer": "ipython2",
   "version": "2.7.5"
  }
 },
 "nbformat": 4,
 "nbformat_minor": 2
}
